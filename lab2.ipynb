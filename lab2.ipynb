{
 "cells": [
  {
   "cell_type": "code",
   "execution_count": 1,
   "metadata": {
    "ExecuteTime": {
     "end_time": "2019-06-04T07:14:50.042234Z",
     "start_time": "2019-06-04T07:14:49.537237Z"
    }
   },
   "outputs": [
    {
     "name": "stdout",
     "output_type": "stream",
     "text": [
      "{\n",
      "  \"shell_port\": 64569,\n",
      "  \"iopub_port\": 64571,\n",
      "  \"stdin_port\": 64573,\n",
      "  \"control_port\": 64576,\n",
      "  \"hb_port\": 64579,\n",
      "  \"ip\": \"127.0.0.1\",\n",
      "  \"key\": \"d0551bb2-e3057811c6c4230f5be764aa\",\n",
      "  \"transport\": \"tcp\",\n",
      "  \"signature_scheme\": \"hmac-sha256\",\n",
      "  \"kernel_name\": \"\"\n",
      "}\n",
      "\n",
      "Paste the above JSON into a file, and connect with:\n",
      "    $> jupyter <app> --existing <file>\n",
      "or, if you are local, you can connect with just:\n",
      "    $> jupyter <app> --existing kernel-17aad4ac-2972-42b5-9845-ce7939879c54.json\n",
      "or even just:\n",
      "    $> jupyter <app> --existing\n",
      "if this is the most recent Jupyter kernel you have started.\n",
      "Pretty printing has been turned OFF\n"
     ]
    },
    {
     "name": "stderr",
     "output_type": "stream",
     "text": [
      "10:14:50 DEBUG:Loaded backend module://ipykernel.pylab.backend_inline version unknown.\n"
     ]
    }
   ],
   "source": [
    "%load_ext autoreload\n",
    "%autoreload 2\n",
    "%connect_info\n",
    "%pprint 1\n",
    "# General imports\n",
    "import numpy as np\n",
    "import pandas as pd\n",
    "import logging\n",
    "import matplotlib.pyplot as plt\n",
    "from typing import NamedTuple, List,Tuple\n",
    "from dataclasses import dataclass\n",
    "from gt.solutions.br import BrownRobinsonOptimizer\n",
    "from IPython.display import display\n",
    "\n",
    "logging.basicConfig(format='%(asctime)s %(levelname)s:%(message)s', level=logging.DEBUG, datefmt='%I:%M:%S')"
   ]
  },
  {
   "cell_type": "code",
   "execution_count": 45,
   "metadata": {
    "ExecuteTime": {
     "end_time": "2019-06-04T10:35:27.391803Z",
     "start_time": "2019-06-04T10:35:27.316643Z"
    }
   },
   "outputs": [],
   "source": [
    "\n",
    "@dataclass\n",
    "class AntagonisticGameOptimizer:\n",
    "    A: float\n",
    "    B: float\n",
    "    c: float\n",
    "    d: float\n",
    "    e: float\n",
    "\n",
    "    def H(self, x: float, y: float) -> float:\n",
    "        return self.A*x**2 + self.B*y**2 + self.c*x*y + self.d*x + self.e*y\n",
    "    \n",
    "    def __post_init__(self):\n",
    "        if 2*self.A >= 0 and 2*self.B <= 0:\n",
    "            raise ValueError(\"This game is not solvable by this solver\")\n",
    "        \n",
    "    def analytical_solution(self) -> Tuple[float, float, float]:\n",
    "        x = (self.c*self.e - 2*self.B*self.d) / (4*self.B*self.A - self.c**2)\n",
    "        y = -(self.c*x + self.e) / (2*self.B)\n",
    "        x = x if x <= -self.e/self.c else 0\n",
    "        y = y if y >= -self.d/self.c else 0\n",
    "        solution = self.H(x, y)\n",
    "        print(f\"Analytical optimal solution: x={x:.3f}, y={y:.3f}, H(x,y)={solution:.2f}\")\n",
    "        return x,y,solution\n",
    "    \n",
    "    @staticmethod\n",
    "    def minmax(matrix) -> Tuple[int, int]:\n",
    "        max_points = np.amax(matrix, axis=0)\n",
    "        column = np.argmin(max_points)\n",
    "        row = np.argmax(matrix[:,column])\n",
    "        #print(f\"Minimax position: {row, column}\")\n",
    "        return row, column\n",
    "        \n",
    "    @staticmethod\n",
    "    def maxmin(matrix) -> Tuple[int, int]:\n",
    "        min_points = np.amin(matrix, axis=1)\n",
    "        #print(f\"Maxmin points: {min_points}\")\n",
    "        row = np.argmax(min_points)\n",
    "        column = np.argmin(matrix[row])\n",
    "        #print(f\"Maximin position: {row, column}\")\n",
    "        return row, column\n",
    "    \n",
    "    @classmethod\n",
    "    def has_point(cls, matrix) -> bool:\n",
    "        return cls.maxmin(matrix) == cls.minmax(matrix)\n",
    "        \n",
    "    def step(self, matrix_size: int) -> Tuple[float, float, float]:\n",
    "        M = np.empty([matrix_size + 1, matrix_size + 1])\n",
    "        for i in range(0, matrix_size + 1):\n",
    "            for j in range(0, matrix_size + 1):\n",
    "                M[i][j] = self.H(float(i) / matrix_size, float(j) / matrix_size)\n",
    "        df = pd.DataFrame(M)\n",
    "        #print(f\"M table with N={matrix_size}\")\n",
    "        #display(df)\n",
    "        if not self.has_point(M):\n",
    "            print(\"No saddle point. Use Brown-Robinson for decisions...\")\n",
    "            opt = BrownRobinsonOptimizer(M, max_steps=10000, verbose=False)\n",
    "            strategies, _ = opt.fit(0.001)\n",
    "            x = strategies.A\n",
    "            y = strategies.B\n",
    "            H = x @ M @ y.T\n",
    "            #print(f\"X: {x}, Y: {y}\")\n",
    "            x = np.argmax(x) / matrix_size\n",
    "            y = np.argmax(y) / matrix_size\n",
    "        else:\n",
    "            mins = np.amin(M, axis=1)\n",
    "            #print(f\"Minima for M: {mins}\")\n",
    "            mins_pos = np.argmin(M, axis=1)\n",
    "            #print(f\"Minima positions for M: {mins_pos}\")\n",
    "            H = max_min = np.amax(mins)\n",
    "            max_min_pos = np.argmax(mins)\n",
    "            #print(f\"Maximin positions for M: {max_min_pos}\")\n",
    "            y = mins_pos[max_min_pos] / matrix_size\n",
    "            x = max_min_pos / matrix_size\n",
    "\n",
    "        print(f\"N: {matrix_size},\\tx={x:.2f},\\ty={y:.2f},\\tH={H:.2f}\")\n",
    "        return x,y,H\n",
    "    \n",
    "    def fit(self, iterations: int=10) -> Tuple[float, float, float]:\n",
    "        states = []\n",
    "        for N in range(2, iterations+1):\n",
    "            states.append(self.step(N))\n",
    "            print(\"============\")\n",
    "        states = sorted(states, key=lambda x: x[2], reverse=True)\n",
    "        print(f\"Best solution: x={states[0][0]:.3f}, y={states[0][1]:.3f}, H={states[0][2]:.3f}\")\n",
    "        return states[0]\n",
    "        "
   ]
  },
  {
   "cell_type": "code",
   "execution_count": 46,
   "metadata": {
    "ExecuteTime": {
     "end_time": "2019-06-04T10:36:00.200056Z",
     "start_time": "2019-06-04T10:35:28.356016Z"
    }
   },
   "outputs": [
    {
     "name": "stdout",
     "output_type": "stream",
     "text": [
      "N: 2,\tx=0.50,\ty=0.50,\tH=-3.90\n",
      "============\n",
      "No saddle point. Use Brown-Robinson for decisions...\n",
      "N: 3,\tx=0.33,\ty=0.67,\tH=-3.77\n",
      "============\n",
      "N: 4,\tx=0.50,\ty=0.50,\tH=-3.90\n",
      "============\n",
      "No saddle point. Use Brown-Robinson for decisions...\n",
      "N: 5,\tx=0.40,\ty=0.60,\tH=-3.78\n",
      "============\n",
      "N: 6,\tx=0.33,\ty=0.50,\tH=-3.87\n",
      "============\n",
      "No saddle point. Use Brown-Robinson for decisions...\n",
      "N: 7,\tx=0.43,\ty=0.43,\tH=-3.83\n",
      "============\n",
      "N: 8,\tx=0.38,\ty=0.50,\tH=-3.84\n",
      "============\n",
      "No saddle point. Use Brown-Robinson for decisions...\n",
      "N: 9,\tx=0.44,\ty=0.44,\tH=-3.84\n",
      "============\n",
      "N: 10,\tx=0.40,\ty=0.50,\tH=-3.84\n",
      "============\n",
      "Best solution: x=0.333, y=0.667, H=-3.769\n",
      "Analytical optimal solution: x=0.400, y=0.500, H(x,y)=-3.84\n"
     ]
    },
    {
     "data": {
      "text/plain": [
       "(0.39999999999999997, 0.5000000000000001, -3.8400000000000007)"
      ]
     },
     "execution_count": 46,
     "metadata": {},
     "output_type": "execute_result"
    }
   ],
   "source": [
    "opt = AntagonisticGameOptimizer(A=-3, B=3/2, c=18/5, d=-18/50, e=-72/25)\n",
    "#opt = AntagonisticGameOptimizer(A=-5, B=9/2, c=15, d=-9/2, e=-9)\n",
    "opt = AntagonisticGameOptimizer(A=-6, B=32/5, c=16, d=-16/5, e=-64/5)\n",
    "opt.fit(iterations=10)\n",
    "opt.analytical_solution()"
   ]
  },
  {
   "cell_type": "code",
   "execution_count": null,
   "metadata": {},
   "outputs": [],
   "source": []
  },
  {
   "cell_type": "code",
   "execution_count": null,
   "metadata": {},
   "outputs": [],
   "source": []
  }
 ],
 "metadata": {
  "kernelspec": {
   "display_name": "Python 3",
   "language": "python",
   "name": "python3"
  },
  "language_info": {
   "codemirror_mode": {
    "name": "ipython",
    "version": 3
   },
   "file_extension": ".py",
   "mimetype": "text/x-python",
   "name": "python",
   "nbconvert_exporter": "python",
   "pygments_lexer": "ipython3",
   "version": "3.7.0"
  },
  "varInspector": {
   "cols": {
    "lenName": 16,
    "lenType": 16,
    "lenVar": 40
   },
   "kernels_config": {
    "python": {
     "delete_cmd_postfix": "",
     "delete_cmd_prefix": "del ",
     "library": "var_list.py",
     "varRefreshCmd": "print(var_dic_list())"
    },
    "r": {
     "delete_cmd_postfix": ") ",
     "delete_cmd_prefix": "rm(",
     "library": "var_list.r",
     "varRefreshCmd": "cat(var_dic_list()) "
    }
   },
   "types_to_exclude": [
    "module",
    "function",
    "builtin_function_or_method",
    "instance",
    "_Feature"
   ],
   "window_display": false
  }
 },
 "nbformat": 4,
 "nbformat_minor": 2
}
