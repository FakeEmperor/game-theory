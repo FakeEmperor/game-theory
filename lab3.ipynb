{
 "cells": [
  {
   "cell_type": "code",
   "execution_count": 56,
   "metadata": {},
   "outputs": [
    {
     "name": "stdout",
     "output_type": "stream",
     "text": [
      "The autoreload extension is already loaded. To reload it, use:\n",
      "  %reload_ext autoreload\n",
      "{\n",
      "  \"shell_port\": 51523,\n",
      "  \"iopub_port\": 51524,\n",
      "  \"stdin_port\": 51525,\n",
      "  \"control_port\": 51526,\n",
      "  \"hb_port\": 51527,\n",
      "  \"ip\": \"127.0.0.1\",\n",
      "  \"key\": \"6d8abfdf-831d8cb6f79fe7a901721850\",\n",
      "  \"transport\": \"tcp\",\n",
      "  \"signature_scheme\": \"hmac-sha256\",\n",
      "  \"kernel_name\": \"\"\n",
      "}\n",
      "\n",
      "Paste the above JSON into a file, and connect with:\n",
      "    $> jupyter <app> --existing <file>\n",
      "or, if you are local, you can connect with just:\n",
      "    $> jupyter <app> --existing kernel-fcd1efde-7c03-4314-a8ca-dd750246db1c.json\n",
      "or even just:\n",
      "    $> jupyter <app> --existing\n",
      "if this is the most recent Jupyter kernel you have started.\n",
      "Pretty printing has been turned ON\n"
     ]
    }
   ],
   "source": [
    "%load_ext autoreload\n",
    "%autoreload 2\n",
    "%connect_info\n",
    "%pprint 1\n",
    "# General imports\n",
    "import numpy as np\n",
    "import pandas as pd\n",
    "import logging\n",
    "import matplotlib.pyplot as plt\n",
    "from typing import NamedTuple, List,Tuple\n",
    "from dataclasses import dataclass\n",
    "from gt.solutions.br import BrownRobinsonOptimizer\n",
    "from IPython.display import display\n",
    "\n",
    "logging.basicConfig(format='%(asctime)s %(levelname)s:%(message)s', level=logging.DEBUG, datefmt='%I:%M:%S')\n",
    "logger = logging.getLogger(__name__)"
   ]
  },
  {
   "cell_type": "code",
   "execution_count": 81,
   "metadata": {},
   "outputs": [],
   "source": [
    "original_payoff_matrix = np.array([\n",
    "    [19, 6, 8, 2, 7],\n",
    "    [7, 9, 2, 0, 12],\n",
    "    [3, 18, 11, 9, 10],\n",
    "    [19, 10, 6, 19, 4],\n",
    "])\n",
    "test_payoff_matrix = np.array([\n",
    "    [5, 8, 7, 5, 4],\n",
    "    [1, 10, 5, 5, 6],\n",
    "    [2, 4, 3, 6, 2],\n",
    "    [3, 5, 4, 12, 3],\n",
    "])\n",
    "start_payoff_matrix = original_payoff_matrix"
   ]
  },
  {
   "cell_type": "code",
   "execution_count": 82,
   "metadata": {},
   "outputs": [
    {
     "data": {
      "text/html": [
       "<div>\n",
       "<style scoped>\n",
       "    .dataframe tbody tr th:only-of-type {\n",
       "        vertical-align: middle;\n",
       "    }\n",
       "\n",
       "    .dataframe tbody tr th {\n",
       "        vertical-align: top;\n",
       "    }\n",
       "\n",
       "    .dataframe thead th {\n",
       "        text-align: right;\n",
       "    }\n",
       "</style>\n",
       "<table border=\"1\" class=\"dataframe\">\n",
       "  <thead>\n",
       "    <tr style=\"text-align: right;\">\n",
       "      <th></th>\n",
       "      <th>b1</th>\n",
       "      <th>b2</th>\n",
       "      <th>b3</th>\n",
       "      <th>b4</th>\n",
       "      <th>b5</th>\n",
       "    </tr>\n",
       "  </thead>\n",
       "  <tbody>\n",
       "    <tr>\n",
       "      <th>a1</th>\n",
       "      <td>19</td>\n",
       "      <td>6</td>\n",
       "      <td>8</td>\n",
       "      <td>2</td>\n",
       "      <td>7</td>\n",
       "    </tr>\n",
       "    <tr>\n",
       "      <th>a2</th>\n",
       "      <td>7</td>\n",
       "      <td>9</td>\n",
       "      <td>2</td>\n",
       "      <td>0</td>\n",
       "      <td>12</td>\n",
       "    </tr>\n",
       "    <tr>\n",
       "      <th>a3</th>\n",
       "      <td>3</td>\n",
       "      <td>18</td>\n",
       "      <td>11</td>\n",
       "      <td>9</td>\n",
       "      <td>10</td>\n",
       "    </tr>\n",
       "    <tr>\n",
       "      <th>a4</th>\n",
       "      <td>19</td>\n",
       "      <td>10</td>\n",
       "      <td>6</td>\n",
       "      <td>19</td>\n",
       "      <td>4</td>\n",
       "    </tr>\n",
       "  </tbody>\n",
       "</table>\n",
       "</div>"
      ],
      "text/plain": [
       "    b1  b2  b3  b4  b5\n",
       "a1  19   6   8   2   7\n",
       "a2   7   9   2   0  12\n",
       "a3   3  18  11   9  10\n",
       "a4  19  10   6  19   4"
      ]
     },
     "execution_count": 82,
     "metadata": {},
     "output_type": "execute_result"
    }
   ],
   "source": [
    "def to_df(matrix: np.ndarray) -> pd.DataFrame:\n",
    "    return pd.DataFrame(data=matrix,\n",
    "                        index=[f'a{i+1}' for i in range(matrix.shape[0])],\n",
    "                        columns=[f'b{i+1}' for i in range(matrix.shape[1])])\n",
    "    \n",
    "payoff_matrix = to_df(start_payoff_matrix)\n",
    "payoff_matrix"
   ]
  },
  {
   "cell_type": "code",
   "execution_count": 87,
   "metadata": {},
   "outputs": [
    {
     "name": "stderr",
     "output_type": "stream",
     "text": [
      "03:50:53 DEBUG:Max rewards for risk table:\n",
      "b1    19\n",
      "b2    18\n",
      "b3    11\n",
      "b4    19\n",
      "b5    12\n",
      "dtype: int32\n"
     ]
    },
    {
     "name": "stdout",
     "output_type": "stream",
     "text": [
      "RISK TABLE\n"
     ]
    },
    {
     "data": {
      "text/html": [
       "<div>\n",
       "<style scoped>\n",
       "    .dataframe tbody tr th:only-of-type {\n",
       "        vertical-align: middle;\n",
       "    }\n",
       "\n",
       "    .dataframe tbody tr th {\n",
       "        vertical-align: top;\n",
       "    }\n",
       "\n",
       "    .dataframe thead th {\n",
       "        text-align: right;\n",
       "    }\n",
       "</style>\n",
       "<table border=\"1\" class=\"dataframe\">\n",
       "  <thead>\n",
       "    <tr style=\"text-align: right;\">\n",
       "      <th></th>\n",
       "      <th>b1</th>\n",
       "      <th>b2</th>\n",
       "      <th>b3</th>\n",
       "      <th>b4</th>\n",
       "      <th>b5</th>\n",
       "    </tr>\n",
       "  </thead>\n",
       "  <tbody>\n",
       "    <tr>\n",
       "      <th>a1</th>\n",
       "      <td>0</td>\n",
       "      <td>12</td>\n",
       "      <td>3</td>\n",
       "      <td>17</td>\n",
       "      <td>5</td>\n",
       "    </tr>\n",
       "    <tr>\n",
       "      <th>a2</th>\n",
       "      <td>12</td>\n",
       "      <td>9</td>\n",
       "      <td>9</td>\n",
       "      <td>19</td>\n",
       "      <td>0</td>\n",
       "    </tr>\n",
       "    <tr>\n",
       "      <th>a3</th>\n",
       "      <td>16</td>\n",
       "      <td>0</td>\n",
       "      <td>0</td>\n",
       "      <td>10</td>\n",
       "      <td>2</td>\n",
       "    </tr>\n",
       "    <tr>\n",
       "      <th>a4</th>\n",
       "      <td>0</td>\n",
       "      <td>8</td>\n",
       "      <td>5</td>\n",
       "      <td>0</td>\n",
       "      <td>8</td>\n",
       "    </tr>\n",
       "  </tbody>\n",
       "</table>\n",
       "</div>"
      ],
      "text/plain": [
       "    b1  b2  b3  b4  b5\n",
       "a1   0  12   3  17   5\n",
       "a2  12   9   9  19   0\n",
       "a3  16   0   0  10   2\n",
       "a4   0   8   5   0   8"
      ]
     },
     "execution_count": 87,
     "metadata": {},
     "output_type": "execute_result"
    }
   ],
   "source": [
    "def create_risk_table(matrix):\n",
    "    matrix = matrix.copy()\n",
    "    max_reward = matrix.max(axis=0)\n",
    "    logger.debug(f\"Max rewards for risk table:\\n{max_reward}\")\n",
    "    for column in matrix.columns:\n",
    "        matrix[column] = max_reward[column] - matrix[column]\n",
    "    return matrix\n",
    "\n",
    "print(\"RISK TABLE\")\n",
    "create_risk_table(payoff_matrix)"
   ]
  },
  {
   "cell_type": "code",
   "execution_count": 84,
   "metadata": {},
   "outputs": [
    {
     "name": "stderr",
     "output_type": "stream",
     "text": [
      "03:49:33 INFO:PLEASE NOTE THAT SAVAGE CRITERIA IS NEGATED SO THAT max() could work next instead of min (as correct formulae here suggests: https://en.wikipedia.org/wiki/Regret_(decision_theory))\n",
      "03:49:33 DEBUG:Looking at criteria: criteria_bernoulli\n",
      "03:49:33 INFO:Column 3 gets one point as its 'criteria_bernoulli' has best value of 11.6\n",
      "03:49:33 DEBUG:Looking at criteria: criteria_wald\n",
      "03:49:33 INFO:Column 3 gets one point as its 'criteria_wald' has best value of 4\n",
      "03:49:33 DEBUG:Looking at criteria: criteria_optimistic\n",
      "03:49:33 INFO:Column 0 gets one point as its 'criteria_optimistic' has best value of 19\n",
      "03:49:33 INFO:Column 3 gets one point as its 'criteria_optimistic' has best value of 19\n",
      "03:49:33 DEBUG:Looking at criteria: criteria_hurwitz\n",
      "03:49:33 INFO:Column 3 gets one point as its 'criteria_hurwitz' has best value of 11.5\n",
      "03:49:33 DEBUG:Looking at criteria: criteria_savage\n",
      "03:49:33 INFO:Column 3 gets one point as its 'criteria_savage' has best value of -8\n"
     ]
    },
    {
     "name": "stdout",
     "output_type": "stream",
     "text": [
      "CRITERIA MATRIX\n"
     ]
    },
    {
     "data": {
      "text/html": [
       "<div>\n",
       "<style scoped>\n",
       "    .dataframe tbody tr th:only-of-type {\n",
       "        vertical-align: middle;\n",
       "    }\n",
       "\n",
       "    .dataframe tbody tr th {\n",
       "        vertical-align: top;\n",
       "    }\n",
       "\n",
       "    .dataframe thead th {\n",
       "        text-align: right;\n",
       "    }\n",
       "</style>\n",
       "<table border=\"1\" class=\"dataframe\">\n",
       "  <thead>\n",
       "    <tr style=\"text-align: right;\">\n",
       "      <th></th>\n",
       "      <th>b1</th>\n",
       "      <th>b2</th>\n",
       "      <th>b3</th>\n",
       "      <th>b4</th>\n",
       "      <th>b5</th>\n",
       "      <th>criteria_bernoulli</th>\n",
       "      <th>criteria_wald</th>\n",
       "      <th>criteria_optimistic</th>\n",
       "      <th>criteria_hurwitz</th>\n",
       "      <th>criteria_savage</th>\n",
       "      <th>scores_best</th>\n",
       "    </tr>\n",
       "  </thead>\n",
       "  <tbody>\n",
       "    <tr>\n",
       "      <th>a1</th>\n",
       "      <td>19</td>\n",
       "      <td>6</td>\n",
       "      <td>8</td>\n",
       "      <td>2</td>\n",
       "      <td>7</td>\n",
       "      <td>8.4</td>\n",
       "      <td>2</td>\n",
       "      <td>19</td>\n",
       "      <td>10.5</td>\n",
       "      <td>-17</td>\n",
       "      <td>1.0</td>\n",
       "    </tr>\n",
       "    <tr>\n",
       "      <th>a2</th>\n",
       "      <td>7</td>\n",
       "      <td>9</td>\n",
       "      <td>2</td>\n",
       "      <td>0</td>\n",
       "      <td>12</td>\n",
       "      <td>6.0</td>\n",
       "      <td>0</td>\n",
       "      <td>12</td>\n",
       "      <td>6.0</td>\n",
       "      <td>-19</td>\n",
       "      <td>0.0</td>\n",
       "    </tr>\n",
       "    <tr>\n",
       "      <th>a3</th>\n",
       "      <td>3</td>\n",
       "      <td>18</td>\n",
       "      <td>11</td>\n",
       "      <td>9</td>\n",
       "      <td>10</td>\n",
       "      <td>10.2</td>\n",
       "      <td>3</td>\n",
       "      <td>18</td>\n",
       "      <td>10.5</td>\n",
       "      <td>-16</td>\n",
       "      <td>0.0</td>\n",
       "    </tr>\n",
       "    <tr>\n",
       "      <th>a4</th>\n",
       "      <td>19</td>\n",
       "      <td>10</td>\n",
       "      <td>6</td>\n",
       "      <td>19</td>\n",
       "      <td>4</td>\n",
       "      <td>11.6</td>\n",
       "      <td>4</td>\n",
       "      <td>19</td>\n",
       "      <td>11.5</td>\n",
       "      <td>-8</td>\n",
       "      <td>5.0</td>\n",
       "    </tr>\n",
       "  </tbody>\n",
       "</table>\n",
       "</div>"
      ],
      "text/plain": [
       "    b1  b2  b3  b4  b5  criteria_bernoulli  criteria_wald  \\\n",
       "a1  19   6   8   2   7                 8.4              2   \n",
       "a2   7   9   2   0  12                 6.0              0   \n",
       "a3   3  18  11   9  10                10.2              3   \n",
       "a4  19  10   6  19   4                11.6              4   \n",
       "\n",
       "    criteria_optimistic  criteria_hurwitz  criteria_savage  scores_best  \n",
       "a1                   19              10.5              -17          1.0  \n",
       "a2                   12               6.0              -19          0.0  \n",
       "a3                   18              10.5              -16          0.0  \n",
       "a4                   19              11.5               -8          5.0  "
      ]
     },
     "execution_count": 84,
     "metadata": {},
     "output_type": "execute_result"
    }
   ],
   "source": [
    "def criteria(matrix: pd.DataFrame, hurwitz_alpha: float=0.5):\n",
    "    criteria_matrix = pd.DataFrame(index=[f'a{i+1}' for i in range(matrix.shape[0])])\n",
    "    criteria_matrix['criteria_bernoulli'] = matrix.mean(axis=1)\n",
    "    criteria_matrix['criteria_wald'] = matrix.min(axis=1)\n",
    "    criteria_matrix['criteria_optimistic'] = matrix.max(axis=1)\n",
    "    criteria_matrix['criteria_hurwitz'] = hurwitz_alpha * criteria_matrix['criteria_wald'] + (1-hurwitz_alpha) * criteria_matrix['criteria_optimistic']\n",
    "    # make a risk table for Savage criteria\n",
    "    risk_table = create_risk_table(matrix)\n",
    "    logger.info(\"PLEASE NOTE THAT SAVAGE CRITERIA IS NEGATED SO THAT max() could work next \"\n",
    "                \"instead of min (as correct formulae here suggests: \"\n",
    "                \"https://en.wikipedia.org/wiki/Regret_(decision_theory))\")\n",
    "    criteria_matrix['criteria_savage'] = -risk_table.max(axis=1)\n",
    "    \n",
    "    # count advisory score - number of times the strategy a_i is best in terms of criteria\n",
    "    scores = np.zeros(len(matrix))\n",
    "    criteria = [column for column in criteria_matrix.columns if column.startswith('criteria_')]\n",
    "    for cri in criteria:\n",
    "        logger.debug(f\"Looking at criteria: {cri}\")\n",
    "        best_cri_value = criteria_matrix[cri].max()\n",
    "        for i in range(len(criteria_matrix)):\n",
    "            if criteria_matrix.iloc[i][cri] == best_cri_value:\n",
    "                logger.info(f\"Column {i} gets one point as its '{cri}' has best value of {best_cri_value}\")\n",
    "                scores[i] += 1\n",
    "                \n",
    "    criteria_matrix['scores_best'] = scores \n",
    "    return pd.concat([matrix, criteria_matrix], axis=1)\n",
    "    \n",
    "payoff_criteria_matrix = criteria(payoff_matrix)\n",
    "print(\"CRITERIA MATRIX\")\n",
    "payoff_criteria_matrix"
   ]
  },
  {
   "cell_type": "code",
   "execution_count": 66,
   "metadata": {},
   "outputs": [
    {
     "data": {
      "text/plain": [
       "b1     5\n",
       "b2    10\n",
       "b3     7\n",
       "b4    12\n",
       "b5     6\n",
       "dtype: int32"
      ]
     },
     "execution_count": 66,
     "metadata": {},
     "output_type": "execute_result"
    }
   ],
   "source": []
  },
  {
   "cell_type": "code",
   "execution_count": null,
   "metadata": {},
   "outputs": [],
   "source": []
  }
 ],
 "metadata": {
  "kernelspec": {
   "display_name": "Python 3",
   "language": "python",
   "name": "python3"
  },
  "language_info": {
   "codemirror_mode": {
    "name": "ipython",
    "version": 3
   },
   "file_extension": ".py",
   "mimetype": "text/x-python",
   "name": "python",
   "nbconvert_exporter": "python",
   "pygments_lexer": "ipython3",
   "version": "3.7.0"
  },
  "varInspector": {
   "cols": {
    "lenName": 16,
    "lenType": 16,
    "lenVar": 40
   },
   "kernels_config": {
    "python": {
     "delete_cmd_postfix": "",
     "delete_cmd_prefix": "del ",
     "library": "var_list.py",
     "varRefreshCmd": "print(var_dic_list())"
    },
    "r": {
     "delete_cmd_postfix": ") ",
     "delete_cmd_prefix": "rm(",
     "library": "var_list.r",
     "varRefreshCmd": "cat(var_dic_list()) "
    }
   },
   "types_to_exclude": [
    "module",
    "function",
    "builtin_function_or_method",
    "instance",
    "_Feature"
   ],
   "window_display": false
  }
 },
 "nbformat": 4,
 "nbformat_minor": 2
}
