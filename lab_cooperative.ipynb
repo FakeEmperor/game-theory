{
 "cells": [
  {
   "cell_type": "code",
   "execution_count": 1,
   "metadata": {
    "ExecuteTime": {
     "end_time": "2019-06-06T13:30:03.229387Z",
     "start_time": "2019-06-06T13:30:02.256045Z"
    }
   },
   "outputs": [
    {
     "name": "stdout",
     "output_type": "stream",
     "text": [
      "{\n",
      "  \"shell_port\": 61715,\n",
      "  \"iopub_port\": 61716,\n",
      "  \"stdin_port\": 61717,\n",
      "  \"control_port\": 61718,\n",
      "  \"hb_port\": 61719,\n",
      "  \"ip\": \"127.0.0.1\",\n",
      "  \"key\": \"937a97ea-6109a469cb73c124c60647d5\",\n",
      "  \"transport\": \"tcp\",\n",
      "  \"signature_scheme\": \"hmac-sha256\",\n",
      "  \"kernel_name\": \"\"\n",
      "}\n",
      "\n",
      "Paste the above JSON into a file, and connect with:\n",
      "    $> jupyter <app> --existing <file>\n",
      "or, if you are local, you can connect with just:\n",
      "    $> jupyter <app> --existing kernel-82d25ff3-98ac-4ccc-a045-652dc0422a4d.json\n",
      "or even just:\n",
      "    $> jupyter <app> --existing\n",
      "if this is the most recent Jupyter kernel you have started.\n",
      "Pretty printing has been turned OFF\n"
     ]
    }
   ],
   "source": [
    "%load_ext autoreload\n",
    "%autoreload 2\n",
    "%connect_info\n",
    "%pprint 1\n",
    "# General imports\n",
    "import numpy as np\n",
    "import pandas as pd\n",
    "import logging\n",
    "import matplotlib.pyplot as plt\n",
    "from typing import NamedTuple, List,Tuple\n",
    "from dataclasses import dataclass\n",
    "from gt.solutions.br import BrownRobinsonOptimizer\n",
    "from IPython.display import display\n",
    "\n",
    "logging.basicConfig(format='%(asctime)s %(levelname)s:%(message)s', level=logging.WARNING, datefmt='%I:%M:%S')\n",
    "logger = logging.getLogger(__name__)"
   ]
  },
  {
   "cell_type": "code",
   "execution_count": 9,
   "metadata": {
    "ExecuteTime": {
     "end_time": "2019-06-06T13:42:05.025265Z",
     "start_time": "2019-06-06T13:42:04.951264Z"
    }
   },
   "outputs": [],
   "source": [
    "from itertools import combinations\n",
    "from scipy.special import factorial"
   ]
  },
  {
   "cell_type": "code",
   "execution_count": 58,
   "metadata": {
    "ExecuteTime": {
     "end_time": "2019-06-06T14:46:41.897022Z",
     "start_time": "2019-06-06T14:46:41.795678Z"
    }
   },
   "outputs": [],
   "source": [
    "value_t = {\n",
    "    frozenset(): 0,\n",
    "    frozenset({1}): 3,\n",
    "    frozenset({2}): 3, \n",
    "    frozenset({3}): 1,\n",
    "    frozenset({4}): 2,\n",
    "    frozenset({1, 2}): 7,\n",
    "    frozenset({1, 3}): 6,\n",
    "    frozenset({1, 4}): 7,\n",
    "    frozenset({2, 3}): 4,\n",
    "    frozenset({2, 4}): 7,\n",
    "    frozenset({3, 4}): 3,\n",
    "    frozenset({1, 2, 3}): 10,\n",
    "    frozenset({1, 2, 4}): 10,\n",
    "    frozenset({1, 3, 4}): 9,\n",
    "    frozenset({2, 3, 4}): 7,\n",
    "    frozenset({1, 2, 3, 4}): 12\n",
    "}\n",
    "\n",
    "value_t_example = {\n",
    "    frozenset(): 0,\n",
    "    frozenset({1}): 1,\n",
    "    frozenset({2}): 1, \n",
    "    frozenset({3}): 1,\n",
    "    frozenset({1, 2}): 3,\n",
    "    frozenset({1, 3}): 3,\n",
    "    frozenset({2, 3}): 3,\n",
    "    frozenset({1, 2, 3}): 4,\n",
    "}\n",
    "\n",
    "def v(coalition, value_t) -> int:\n",
    "    return value_t[frozenset(coalition)]"
   ]
  },
  {
   "cell_type": "code",
   "execution_count": 71,
   "metadata": {
    "ExecuteTime": {
     "end_time": "2019-06-06T14:52:58.185608Z",
     "start_time": "2019-06-06T14:52:58.103581Z"
    }
   },
   "outputs": [],
   "source": [
    "def check_superadditivity(coalitions, value_t):\n",
    "    for S in coalitions:\n",
    "        for T in coalitions:\n",
    "            if not S & T and not v(S | T, value_t) >= v(S, value_t) + v(T, value_t):\n",
    "                print(f'Игра не является супераддитивной. S: {S}, T: {T} '\n",
    "                      f'v(S | T) = {v(S | T, value_t)}, v(S)={v(S, value_t)}, v(T)={v(T, value_t)}')\n",
    "                return False\n",
    "    print('Игра является супераддитивной')\n",
    "    return True\n",
    "\n",
    "\n",
    "def check_convexity(coalitions, value_t):\n",
    "    for S in coalitions:\n",
    "        for T in coalitions:\n",
    "            if not v(S | T, value_t) + v(S & T, value_t) >= v(S, value_t) + v(T, value_t):\n",
    "                print(f'Игра не является выпуклой. S: {S}, T: {T} '\n",
    "                      f'v(S | T) = {v(S | T, value_t)}, v(S & T)={v(S & T, value_t)}, '\n",
    "                      f'v(S)={v(S, value_t)}, v(T)={v(T, value_t)}')\n",
    "                return False\n",
    "    print('Игра является выпуклой')\n",
    "    return True\n",
    "\n",
    "\n",
    "def compute_shapley(coalitions, value_t, coalition_members):\n",
    "    X = []\n",
    "    N = len(coalition_members)\n",
    "    for member in coalition_members:\n",
    "        x_i = 0\n",
    "        for S in coalitions:\n",
    "            if member in S:\n",
    "                #print(f\"Coalition S={S} ({v(S, value_t)}) \"\n",
    "                #      f\"[S without={S - set([member])}, {v(S - set([member]), value_t)}]\")\n",
    "                x_i += factorial(len(S) - 1) * factorial(N - len(S)) * (v(S, value_t) - v(S - {member}, value_t))\n",
    "                #print(f\"Current x_i: {x_i}\")\n",
    "                \n",
    "        x_i /= factorial(N)\n",
    "        #print(f\"Final x_i={x_i}\")\n",
    "        X.append(x_i)\n",
    "    print(f'Вектор Шепли: {[format(x_i, \".3f\") for x_i in X]}')\n",
    "\n",
    "    if np.allclose(sum(X), v(set(coalition_members), value_t)):\n",
    "        print('Условие групповой рационализации выполняется')\n",
    "    else:\n",
    "        print(f'Условие групповой рационализации не выполняется: {sum(X)} and {v(set(coalition_members), value_t)}')\n",
    "\n",
    "    for member in coalition_members:\n",
    "        if not X[member - 1] >= v({member}, value_t):\n",
    "            print(f'Условие индивидуальной рационализации не выполняется '\n",
    "                  f'(для {member}: (распределённая) {X[member-1]} < {v(set([member]), value_t)} (индивидуальная))')\n",
    "            break\n",
    "    else:\n",
    "        print('Условие индивидуальной рационализации выполняется')\n"
   ]
  },
  {
   "cell_type": "code",
   "execution_count": 72,
   "metadata": {
    "ExecuteTime": {
     "end_time": "2019-06-06T14:52:58.563364Z",
     "start_time": "2019-06-06T14:52:58.482867Z"
    }
   },
   "outputs": [
    {
     "name": "stdout",
     "output_type": "stream",
     "text": [
      "Игра не является супераддитивной. S: {3}, T: {2, 4} v(S | T) = 7, v(S)=1, v(T)=7\n",
      "Игра не является выпуклой. S: {3}, T: {2, 4} v(S | T) = 7, v(S & T)=0, v(S)=1, v(T)=7\n",
      "Вектор Шепли: ['4.417', '3.417', '1.583', '2.583']\n",
      "Условие групповой рационализации выполняется\n",
      "Условие индивидуальной рационализации выполняется\n"
     ]
    }
   ],
   "source": [
    "coalition_members = [1, 2, 3, 4]\n",
    "coalition_members_example = [1, 2, 3]\n",
    "#coalition_members = coalition_members_example\n",
    "coalitions = [set(members) for l in range(len(coalition_members)+1) for members in combinations(coalition_members, l)]\n",
    "#print(f\"Coalitions: {coalitions}\")\n",
    "check_superadditivity(coalitions, value_t)\n",
    "check_convexity(coalitions, value_t)\n",
    "compute_shapley(coalitions, value_t, coalition_members)"
   ]
  },
  {
   "cell_type": "code",
   "execution_count": null,
   "metadata": {},
   "outputs": [],
   "source": []
  }
 ],
 "metadata": {
  "kernelspec": {
   "display_name": "Python 3",
   "language": "python",
   "name": "python3"
  },
  "language_info": {
   "codemirror_mode": {
    "name": "ipython",
    "version": 3
   },
   "file_extension": ".py",
   "mimetype": "text/x-python",
   "name": "python",
   "nbconvert_exporter": "python",
   "pygments_lexer": "ipython3",
   "version": "3.7.0"
  },
  "varInspector": {
   "cols": {
    "lenName": 16,
    "lenType": 16,
    "lenVar": 40
   },
   "kernels_config": {
    "python": {
     "delete_cmd_postfix": "",
     "delete_cmd_prefix": "del ",
     "library": "var_list.py",
     "varRefreshCmd": "print(var_dic_list())"
    },
    "r": {
     "delete_cmd_postfix": ") ",
     "delete_cmd_prefix": "rm(",
     "library": "var_list.r",
     "varRefreshCmd": "cat(var_dic_list()) "
    }
   },
   "types_to_exclude": [
    "module",
    "function",
    "builtin_function_or_method",
    "instance",
    "_Feature"
   ],
   "window_display": false
  }
 },
 "nbformat": 4,
 "nbformat_minor": 2
}
