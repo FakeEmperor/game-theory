{
 "cells": [
  {
   "cell_type": "code",
   "execution_count": 53,
   "metadata": {
    "ExecuteTime": {
     "end_time": "2019-06-13T00:07:39.774674Z",
     "start_time": "2019-06-13T00:07:39.672152Z"
    }
   },
   "outputs": [
    {
     "name": "stdout",
     "output_type": "stream",
     "text": [
      "The autoreload extension is already loaded. To reload it, use:\n",
      "  %reload_ext autoreload\n",
      "{\n",
      "  \"shell_port\": 64183,\n",
      "  \"iopub_port\": 64184,\n",
      "  \"stdin_port\": 64185,\n",
      "  \"control_port\": 64186,\n",
      "  \"hb_port\": 64187,\n",
      "  \"ip\": \"127.0.0.1\",\n",
      "  \"key\": \"2a1b463d-902d6f71f3707b0cf3d8c57c\",\n",
      "  \"transport\": \"tcp\",\n",
      "  \"signature_scheme\": \"hmac-sha256\",\n",
      "  \"kernel_name\": \"\"\n",
      "}\n",
      "\n",
      "Paste the above JSON into a file, and connect with:\n",
      "    $> jupyter <app> --existing <file>\n",
      "or, if you are local, you can connect with just:\n",
      "    $> jupyter <app> --existing kernel-2c47d847-0c18-4cf7-9f65-db4d1b2941df.json\n",
      "or even just:\n",
      "    $> jupyter <app> --existing\n",
      "if this is the most recent Jupyter kernel you have started.\n",
      "Pretty printing has been turned ON\n"
     ]
    }
   ],
   "source": [
    "%load_ext autoreload\n",
    "%autoreload 2\n",
    "%connect_info\n",
    "%pprint 1\n",
    "# General imports\n",
    "import numpy as np\n",
    "import pandas as pd\n",
    "import logging\n",
    "import matplotlib.pyplot as plt\n",
    "from typing import NamedTuple, List, Tuple, Iterable\n",
    "from dataclasses import dataclass\n",
    "from IPython.display import display\n",
    "\n",
    "logging.basicConfig(format='%(asctime)s %(levelname)s:%(message)s', level=logging.WARNING, datefmt='%I:%M:%S')\n",
    "logger = logging.getLogger(__name__)"
   ]
  },
  {
   "cell_type": "code",
   "execution_count": 118,
   "metadata": {
    "ExecuteTime": {
     "end_time": "2019-06-13T00:20:59.051100Z",
     "start_time": "2019-06-13T00:20:58.964087Z"
    }
   },
   "outputs": [
    {
     "name": "stdout",
     "output_type": "stream",
     "text": [
      "[[0.24 0.04 0.72]\n",
      " [0.71 0.20 0.12]\n",
      " [0.36 0.85 0.78]]\n",
      "[[0.24 0.04 0.72]\n",
      " [0.69 0.19 0.12]\n",
      " [0.18 0.43 0.39]]\n",
      "[[1.00]\n",
      " [1.03]\n",
      " [1.99]]\n"
     ]
    }
   ],
   "source": [
    "# A = np.array([\n",
    "#     [0, 1, 0],\n",
    "#     [0, 0, 1],\n",
    "#     [0, 0, 1],\n",
    "#     [1, 1, 1],\n",
    "# ])\n",
    "\n",
    "A = np.array([[0.24, 0.04, 0.72],\n",
    " [0.71, 0.20, 0.12],\n",
    " [0.36, 0.85, 0.78],])\n",
    "B = A / A.sum(axis=1)[np.newaxis].T\n",
    "print(A)\n",
    "print(B)\n",
    "print(A.sum(axis=1)[np.newaxis].T)\n",
    "#np.all(A[0,:] == A, axis=1)"
   ]
  },
  {
   "cell_type": "code",
   "execution_count": 179,
   "metadata": {
    "ExecuteTime": {
     "end_time": "2019-06-13T00:42:55.080145Z",
     "start_time": "2019-06-13T00:42:54.979293Z"
    }
   },
   "outputs": [],
   "source": [
    "import numpy as np\n",
    "\n",
    "np.set_printoptions(formatter={'float_kind': lambda x: \"%.2f\" % x})\n",
    "\n",
    "class SimpleGame:\n",
    "    \n",
    "    \n",
    "    def __init__(self, agents: int, min_opinion: float=10, max_opinion: float=20):\n",
    "        self.agents = agents\n",
    "        self.min_opinion = min_opinion\n",
    "        self.max_opinion = max_opinion\n",
    "        self.A_initial = None\n",
    "        self.x_initial = None\n",
    "        self.A_final = None\n",
    "        self.x_final = None\n",
    "\n",
    "    @classmethod\n",
    "    def make_initial_game(cls, agents: int, opinions_range: Tuple[int, int]=(10, 20)) -> Tuple[np.ndarray, np.ndarray]:\n",
    "        A = np.random.rand(agents, agents)\n",
    "        A = A / A.sum(axis=1)[np.newaxis].T \n",
    "        x = np.random.randint(*opinions_range, size=(1, agents))\n",
    "        return A, x.ravel()\n",
    "\n",
    "    @classmethod\n",
    "    def assign_agents_to_players(cls, agents: int, players: int=2):\n",
    "        assert agents >= players\n",
    "        agents_player_vector = np.random.randint(0, agents + 1, agents)\n",
    "        return [\n",
    "            [\n",
    "                agent for agent, assigned_player in enumerate(agents_player_vector) \n",
    "                if assigned_player == player\n",
    "            ]\n",
    "            for player in range(1, players+1)\n",
    "        ]\n",
    "        \n",
    "    \n",
    "    @classmethod\n",
    "    def check_game_solved(cls, A: np.ndarray, x: np.ndarray, accuracy: float=0.01):\n",
    "        for j in range(len(x)):\n",
    "            for i in range(len(x)):\n",
    "                if not abs(A[i][j] - A[0][j]) < accuracy:\n",
    "                    return False\n",
    "\n",
    "        for i in range(len(x)):\n",
    "            if not abs(x[i] - x[0]) < accuracy:\n",
    "                return False\n",
    "        return True\n",
    "\n",
    "\n",
    "    def reset(self):\n",
    "        self.A_initial, self.x_initial = self.make_initial_game(self.agents, \n",
    "                                                                opinions_range=(self.min_opinion, self.max_opinion))\n",
    "        print('Сгенерированная игра:')\n",
    "        self.print_game(self.A_initial, self.x_initial)\n",
    "        \n",
    "    @classmethod\n",
    "    def print_game(cls, A: np.ndarray, x: np.ndarray, players: Iterable[Iterable[int]]=()):\n",
    "        if A is not None:\n",
    "            print(f\"Матрица влияния A :\\n{A}\")\n",
    "        print(f\"Вектор мнений: \\n{x}\")\n",
    "        for player, player_agents in enumerate(players):\n",
    "            print(f\"Агенты {player+1} игрока: {player_agents}\")\n",
    "    \n",
    "    def solve(self, accuracy: float=0.001):\n",
    "        self.A_final = self.A_initial.copy()\n",
    "        self.x_final = self.x_initial.copy()\n",
    "        iterations = 0\n",
    "        while not self.check_game_solved(self.A_final, self.x_final, accuracy=accuracy):\n",
    "            self.A_final = self.A_final @ self.A_final\n",
    "            self.x_final = self.A_initial @ self.x_final\n",
    "            iterations += 1\n",
    "        return iterations\n",
    "        \n",
    "\n",
    "        \n",
    "class InfluencedAgentsGame(SimpleGame):\n",
    "    \n",
    "    def __init__(self, agents: int, min_opinion: float=10, max_opinion: float=20, \n",
    "                 players: int=2, influenced_opinions=[1, -1]):\n",
    "        assert len(influenced_opinions) == players\n",
    "        super().__init__(agents, min_opinion, max_opinion)\n",
    "        self.influenced_opinions = influenced_opinions\n",
    "        self.players = players\n",
    "        self.player_agents = []\n",
    "    \n",
    "    def reset(self, A=None, x=None):\n",
    "        self.A_initial, self.x_initial = self.make_initial_game(self.agents, \n",
    "                                                                opinions_range=(self.min_opinion, self.max_opinion))\n",
    "        if A is not None:\n",
    "            self.A_initial = A\n",
    "        if x is not None:\n",
    "            self.x_initial = x\n",
    "        self.player_agents = self.assign_agents_to_players(self.agents, self.players)\n",
    "        for player, agents in enumerate(self.player_agents):\n",
    "            for agent in agents:\n",
    "                self.x_initial[agent] = self.influenced_opinions[player]\n",
    "        print('Сгенерированная игра с купленными агентами:')\n",
    "        self.print_game(self.A_initial, self.x_initial, self.player_agents)\n"
   ]
  },
  {
   "cell_type": "code",
   "execution_count": 182,
   "metadata": {
    "ExecuteTime": {
     "end_time": "2019-06-13T00:44:36.525830Z",
     "start_time": "2019-06-13T00:44:36.439230Z"
    }
   },
   "outputs": [
    {
     "name": "stdout",
     "output_type": "stream",
     "text": [
      "Сгенерированная игра:\n",
      "Матрица влияния A :\n",
      "[[0.05 0.14 0.15 0.11 0.15 0.05 0.04 0.25 0.06]\n",
      " [0.16 0.13 0.09 0.16 0.17 0.00 0.03 0.13 0.13]\n",
      " [0.09 0.16 0.05 0.04 0.21 0.11 0.03 0.06 0.23]\n",
      " [0.09 0.06 0.05 0.04 0.29 0.07 0.24 0.05 0.11]\n",
      " [0.10 0.14 0.10 0.16 0.13 0.11 0.13 0.03 0.10]\n",
      " [0.20 0.03 0.05 0.16 0.17 0.18 0.07 0.08 0.06]\n",
      " [0.02 0.11 0.12 0.13 0.12 0.10 0.09 0.13 0.18]\n",
      " [0.09 0.05 0.02 0.15 0.16 0.24 0.07 0.11 0.10]\n",
      " [0.02 0.10 0.15 0.12 0.11 0.17 0.11 0.05 0.17]]\n",
      "Вектор мнений: \n",
      "[15 18 14 15 12 15 13 15 16]\n",
      "------------------------------\n",
      "Решение игры с независимыми агентами [9 итераций]:\n",
      "Матрица влияния A :\n",
      "[[0.09 0.10 0.09 0.12 0.17 0.11 0.10 0.09 0.12]\n",
      " [0.09 0.10 0.09 0.12 0.17 0.11 0.10 0.09 0.12]\n",
      " [0.09 0.10 0.09 0.12 0.17 0.11 0.10 0.09 0.12]\n",
      " [0.09 0.10 0.09 0.12 0.17 0.11 0.10 0.09 0.12]\n",
      " [0.09 0.10 0.09 0.12 0.17 0.11 0.10 0.09 0.12]\n",
      " [0.09 0.10 0.09 0.12 0.17 0.11 0.10 0.09 0.12]\n",
      " [0.09 0.10 0.09 0.12 0.17 0.11 0.10 0.09 0.12]\n",
      " [0.09 0.10 0.09 0.12 0.17 0.11 0.10 0.09 0.12]\n",
      " [0.09 0.10 0.09 0.12 0.17 0.11 0.10 0.09 0.12]]\n",
      "Вектор мнений: \n",
      "[14.65 14.65 14.65 14.65 14.65 14.65 14.65 14.65 14.65]\n",
      "Сгенерированная игра с купленными агентами:\n",
      "Матрица влияния A :\n",
      "[[0.05 0.14 0.15 0.11 0.15 0.05 0.04 0.25 0.06]\n",
      " [0.16 0.13 0.09 0.16 0.17 0.00 0.03 0.13 0.13]\n",
      " [0.09 0.16 0.05 0.04 0.21 0.11 0.03 0.06 0.23]\n",
      " [0.09 0.06 0.05 0.04 0.29 0.07 0.24 0.05 0.11]\n",
      " [0.10 0.14 0.10 0.16 0.13 0.11 0.13 0.03 0.10]\n",
      " [0.20 0.03 0.05 0.16 0.17 0.18 0.07 0.08 0.06]\n",
      " [0.02 0.11 0.12 0.13 0.12 0.10 0.09 0.13 0.18]\n",
      " [0.09 0.05 0.02 0.15 0.16 0.24 0.07 0.11 0.10]\n",
      " [0.02 0.10 0.15 0.12 0.11 0.17 0.11 0.05 0.17]]\n",
      "Вектор мнений: \n",
      "[ 15  18  14  15  12 100  13  15  16]\n",
      "Агенты 1 игрока: [5]\n",
      "Агенты 2 игрока: []\n",
      "------------------------------\n",
      "Решение игры с купленными агентами [10 итераций]:\n",
      "Матрица влияния A :\n",
      "[[0.09 0.10 0.09 0.12 0.17 0.11 0.10 0.09 0.12]\n",
      " [0.09 0.10 0.09 0.12 0.17 0.11 0.10 0.09 0.12]\n",
      " [0.09 0.10 0.09 0.12 0.17 0.11 0.10 0.09 0.12]\n",
      " [0.09 0.10 0.09 0.12 0.17 0.11 0.10 0.09 0.12]\n",
      " [0.09 0.10 0.09 0.12 0.17 0.11 0.10 0.09 0.12]\n",
      " [0.09 0.10 0.09 0.12 0.17 0.11 0.10 0.09 0.12]\n",
      " [0.09 0.10 0.09 0.12 0.17 0.11 0.10 0.09 0.12]\n",
      " [0.09 0.10 0.09 0.12 0.17 0.11 0.10 0.09 0.12]\n",
      " [0.09 0.10 0.09 0.12 0.17 0.11 0.10 0.09 0.12]]\n",
      "Вектор мнений: \n",
      "[24.39 24.39 24.39 24.39 24.39 24.39 24.39 24.39 24.39]\n"
     ]
    }
   ],
   "source": [
    "simple_game = SimpleGame(agents=9, min_opinion=10, max_opinion=20)\n",
    "simple_game.reset()\n",
    "iterations = simple_game.solve(accuracy=0.000001)\n",
    "print(\"-\" * 30)\n",
    "print(f\"Решение игры с независимыми агентами [{iterations} итераций]:\")\n",
    "simple_game.print_game(simple_game.A_final, simple_game.x_final)\n",
    "\n",
    "\n",
    "game = InfluencedAgentsGame(agents=9, min_opinion=-100, max_opinion=100, influenced_opinions=(100, -100))\n",
    "game.reset(A=simple_game.A_initial, x=simple_game.x_initial)\n",
    "iterations = game.solve(accuracy=0.000001)\n",
    "print(\"-\" * 30)\n",
    "print(f\"Решение игры с купленными агентами [{iterations} итераций]:\")\n",
    "game.print_game(game.A_final, game.x_final)\n"
   ]
  },
  {
   "cell_type": "code",
   "execution_count": null,
   "metadata": {},
   "outputs": [],
   "source": []
  },
  {
   "cell_type": "code",
   "execution_count": null,
   "metadata": {},
   "outputs": [],
   "source": []
  }
 ],
 "metadata": {
  "kernelspec": {
   "display_name": "Python 3",
   "language": "python",
   "name": "python3"
  },
  "language_info": {
   "codemirror_mode": {
    "name": "ipython",
    "version": 3
   },
   "file_extension": ".py",
   "mimetype": "text/x-python",
   "name": "python",
   "nbconvert_exporter": "python",
   "pygments_lexer": "ipython3",
   "version": "3.7.0"
  },
  "varInspector": {
   "cols": {
    "lenName": 16,
    "lenType": 16,
    "lenVar": 40
   },
   "kernels_config": {
    "python": {
     "delete_cmd_postfix": "",
     "delete_cmd_prefix": "del ",
     "library": "var_list.py",
     "varRefreshCmd": "print(var_dic_list())"
    },
    "r": {
     "delete_cmd_postfix": ") ",
     "delete_cmd_prefix": "rm(",
     "library": "var_list.r",
     "varRefreshCmd": "cat(var_dic_list()) "
    }
   },
   "types_to_exclude": [
    "module",
    "function",
    "builtin_function_or_method",
    "instance",
    "_Feature"
   ],
   "window_display": false
  }
 },
 "nbformat": 4,
 "nbformat_minor": 2
}
