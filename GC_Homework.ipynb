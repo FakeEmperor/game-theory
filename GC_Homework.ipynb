{
 "cells": [
  {
   "cell_type": "code",
   "execution_count": 25,
   "metadata": {
    "ExecuteTime": {
     "end_time": "2019-06-04T12:00:56.573873Z",
     "start_time": "2019-06-04T12:00:56.465198Z"
    }
   },
   "outputs": [
    {
     "name": "stdout",
     "output_type": "stream",
     "text": [
      "The autoreload extension is already loaded. To reload it, use:\n",
      "  %reload_ext autoreload\n",
      "{\n",
      "  \"shell_port\": 64464,\n",
      "  \"iopub_port\": 64465,\n",
      "  \"stdin_port\": 64466,\n",
      "  \"control_port\": 64467,\n",
      "  \"hb_port\": 64468,\n",
      "  \"ip\": \"127.0.0.1\",\n",
      "  \"key\": \"b0a6862a-e3ad4974ce03be4b267392ad\",\n",
      "  \"transport\": \"tcp\",\n",
      "  \"signature_scheme\": \"hmac-sha256\",\n",
      "  \"kernel_name\": \"\"\n",
      "}\n",
      "\n",
      "Paste the above JSON into a file, and connect with:\n",
      "    $> jupyter <app> --existing <file>\n",
      "or, if you are local, you can connect with just:\n",
      "    $> jupyter <app> --existing kernel-7e85f7bb-e36e-425c-a524-a3461bbb837d.json\n",
      "or even just:\n",
      "    $> jupyter <app> --existing\n",
      "if this is the most recent Jupyter kernel you have started.\n",
      "Pretty printing has been turned OFF\n"
     ]
    }
   ],
   "source": [
    "%load_ext autoreload\n",
    "%autoreload 2\n",
    "%connect_info\n",
    "%pprint 1\n",
    "# General imports\n",
    "import numpy as np\n",
    "import pandas as pd\n",
    "import logging\n",
    "import matplotlib.pyplot as plt\n",
    "from typing import NamedTuple, List,Tuple\n",
    "from dataclasses import dataclass\n",
    "from gt.solutions.br import BrownRobinsonOptimizer\n",
    "from IPython.display import display\n",
    "\n",
    "logging.basicConfig(format='%(asctime)s %(levelname)s:%(message)s', level=logging.DEBUG, datefmt='%I:%M:%S')\n",
    "logger = logging.getLogger(__name__)"
   ]
  },
  {
   "cell_type": "code",
   "execution_count": 21,
   "metadata": {
    "ExecuteTime": {
     "end_time": "2019-06-04T11:21:50.474539Z",
     "start_time": "2019-06-04T11:21:46.469384Z"
    }
   },
   "outputs": [
    {
     "data": {
      "text/plain": [
       "OptimizerState(step=2136, game_cost_current=Fraction(1, 1068), A_income=array([-5748., -3612., -5418., -2709., -3126.]), B_loss=array([-2850., -2137., -2849., -2136., -2136.]), A_frequencies=array([[1.000e+00, 0.000e+00, 0.000e+00, 1.423e+03, 7.120e+02]]), B_frequencies=array([[ 903.,    0., 1233.,    0.,    0.]]), A_strategy=3, B_strategy=2, min_win=Fraction(-4, 3), max_loss=Fraction(-475, 356))"
      ]
     },
     "execution_count": 21,
     "metadata": {},
     "output_type": "execute_result"
    }
   ],
   "source": [
    "#\n",
    "\n",
    "original_matrix = np.array([\n",
    "    [-5, -1, -1, -3, 0],\n",
    "    [-4, 1, 0, -4, 0], \n",
    "    [-6, -1, 0, -5, 0], \n",
    "    [-3, 0, 0, -3, 0], \n",
    "    [2, -3, -4, 3, -3]\n",
    "])\n",
    "\n",
    "def normalize(m: np.ndarray) -> Tuple[np.ndarray, int]:\n",
    "    norm_element = -np.min(m)\n",
    "    if norm_element < 0:\n",
    "        return m, 0\n",
    "    return m + norm_element, norm_element\n",
    "\n",
    "\n",
    "normalized_matrix, norm_element = normalize(original_matrix)\n",
    "normalized_matrix\n",
    "\n",
    "opt = BrownRobinsonOptimizer(original_matrix, max_steps=10000)\n",
    "(A, B), states = opt.fit(0.001)\n",
    "states[-1]"
   ]
  },
  {
   "cell_type": "code",
   "execution_count": null,
   "metadata": {
    "ExecuteTime": {
     "end_time": "2019-06-04T12:00:59.111655Z",
     "start_time": "2019-06-04T12:00:59.089Z"
    }
   },
   "outputs": [],
   "source": [
    "def to_df(matrix: np.ndarray) -> pd.DataFrame:\n",
    "    return pd.DataFrame(data=matrix,\n",
    "                        index=[f'a{i+1}' for i in range(matrix.shape[0])],\n",
    "                        columns=[f'b{i+1}' for i in range(matrix.shape[1])])\n",
    "df = to_df(normalized_matrix)"
   ]
  },
  {
   "cell_type": "code",
   "execution_count": 47,
   "metadata": {
    "ExecuteTime": {
     "end_time": "2019-06-04T12:11:12.754192Z",
     "start_time": "2019-06-04T12:11:12.542861Z"
    }
   },
   "outputs": [
    {
     "name": "stderr",
     "output_type": "stream",
     "text": [
      "03:11:12 DEBUG:Comparing column b1\n",
      "03:11:12 INFO:Column b1 ([1 2 0 3 8]) is strictly dominated by b4 ([3 2 1 3 9])\n",
      "03:11:12 DEBUG:Comparing column b2\n",
      "03:11:12 DEBUG:Comparing column b3\n",
      "03:11:12 INFO:Column b3 ([5 6 6 6 2]) is strictly dominated by b5 ([6 6 6 6 3])\n",
      "03:11:12 DEBUG:Comparing column b4\n",
      "03:11:12 DEBUG:Comparing column b5\n",
      "03:11:12 DEBUG:Comparing row a1\n",
      "03:11:12 INFO:Row a1 ([1 5 5 3 6]) is strictly dominated by a4 ([3 6 6 3 6])\n",
      "03:11:12 DEBUG:Comparing row a2\n",
      "03:11:12 DEBUG:Comparing row a3\n",
      "03:11:12 INFO:Row a3 ([0 5 6 1 6]) is strictly dominated by a2 ([2 7 6 2 6])\n",
      "03:11:12 DEBUG:Comparing row a4\n",
      "03:11:12 DEBUG:Comparing row a5\n"
     ]
    },
    {
     "data": {
      "text/html": [
       "<div>\n",
       "<style scoped>\n",
       "    .dataframe tbody tr th:only-of-type {\n",
       "        vertical-align: middle;\n",
       "    }\n",
       "\n",
       "    .dataframe tbody tr th {\n",
       "        vertical-align: top;\n",
       "    }\n",
       "\n",
       "    .dataframe thead th {\n",
       "        text-align: right;\n",
       "    }\n",
       "</style>\n",
       "<table border=\"1\" class=\"dataframe\">\n",
       "  <thead>\n",
       "    <tr style=\"text-align: right;\">\n",
       "      <th></th>\n",
       "      <th>b2</th>\n",
       "      <th>b4</th>\n",
       "      <th>b5</th>\n",
       "    </tr>\n",
       "  </thead>\n",
       "  <tbody>\n",
       "    <tr>\n",
       "      <th>a2</th>\n",
       "      <td>7</td>\n",
       "      <td>2</td>\n",
       "      <td>6</td>\n",
       "    </tr>\n",
       "    <tr>\n",
       "      <th>a4</th>\n",
       "      <td>6</td>\n",
       "      <td>3</td>\n",
       "      <td>6</td>\n",
       "    </tr>\n",
       "    <tr>\n",
       "      <th>a5</th>\n",
       "      <td>3</td>\n",
       "      <td>9</td>\n",
       "      <td>3</td>\n",
       "    </tr>\n",
       "  </tbody>\n",
       "</table>\n",
       "</div>"
      ],
      "text/plain": [
       "    b2  b4  b5\n",
       "a2   7   2   6\n",
       "a4   6   3   6\n",
       "a5   3   9   3"
      ]
     },
     "execution_count": 47,
     "metadata": {},
     "output_type": "execute_result"
    }
   ],
   "source": [
    "def transform_matrix(matrix: pd.DataFrame) -> pd.DataFrame:\n",
    "    # eliminate strictly dominated strategies\n",
    "    columns = matrix.columns\n",
    "    filtered_columns = []\n",
    "    for column in columns:\n",
    "        logger.debug(f\"Comparing column {column}\")\n",
    "        for compare_column in columns:\n",
    "            if column != compare_column and (matrix[compare_column] >= matrix[column]).all():\n",
    "                logger.info(f\"Column {column} ({matrix[column].ravel()}) \"\n",
    "                            f\"is strictly dominated by {compare_column} ({matrix[compare_column].ravel()})\")\n",
    "                break\n",
    "        else:\n",
    "            filtered_columns.append(column)\n",
    "    \n",
    "    rows = matrix.index\n",
    "    filtered_rows = []\n",
    "    for row in rows:\n",
    "        logger.debug(f\"Comparing row {row}\")\n",
    "        for compare_row in rows:\n",
    "            if row != compare_row and (matrix.loc[compare_row] >= matrix.loc[row]).all():\n",
    "                logger.info(f\"Row {row} ({matrix.loc[row].ravel()}) is \"\n",
    "                            f\"strictly dominated by {compare_row} ({matrix.loc[compare_row].ravel()})\")\n",
    "                break\n",
    "        else:\n",
    "            filtered_rows.append(row)\n",
    "    return matrix[filtered_columns].loc[filtered_rows]\n",
    "\n",
    "transform_matrix(df)\n",
    "#(df.loc['a1'] >= df.loc['a2']).all()"
   ]
  },
  {
   "cell_type": "code",
   "execution_count": null,
   "metadata": {},
   "outputs": [],
   "source": []
  }
 ],
 "metadata": {
  "kernelspec": {
   "display_name": "Python 3",
   "language": "python",
   "name": "python3"
  },
  "language_info": {
   "codemirror_mode": {
    "name": "ipython",
    "version": 3
   },
   "file_extension": ".py",
   "mimetype": "text/x-python",
   "name": "python",
   "nbconvert_exporter": "python",
   "pygments_lexer": "ipython3",
   "version": "3.7.0"
  },
  "varInspector": {
   "cols": {
    "lenName": 16,
    "lenType": 16,
    "lenVar": 40
   },
   "kernels_config": {
    "python": {
     "delete_cmd_postfix": "",
     "delete_cmd_prefix": "del ",
     "library": "var_list.py",
     "varRefreshCmd": "print(var_dic_list())"
    },
    "r": {
     "delete_cmd_postfix": ") ",
     "delete_cmd_prefix": "rm(",
     "library": "var_list.r",
     "varRefreshCmd": "cat(var_dic_list()) "
    }
   },
   "position": {
    "height": "261.85px",
    "left": "1217px",
    "right": "20px",
    "top": "120px",
    "width": "297.4px"
   },
   "types_to_exclude": [
    "module",
    "function",
    "builtin_function_or_method",
    "instance",
    "_Feature"
   ],
   "window_display": false
  }
 },
 "nbformat": 4,
 "nbformat_minor": 2
}
